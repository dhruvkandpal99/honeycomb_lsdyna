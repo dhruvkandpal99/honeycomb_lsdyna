{
 "cells": [
  {
   "cell_type": "code",
   "execution_count": 4,
   "id": "c0b947b2",
   "metadata": {},
   "outputs": [],
   "source": [
    "import pandas as pd\n",
    "import numpy as np\n",
    "from scipy.interpolate import interp1d\n",
    "import matplotlib.pyplot as plt\n"
   ]
  },
  {
   "cell_type": "code",
   "execution_count": 2,
   "id": "3fae6150",
   "metadata": {},
   "outputs": [],
   "source": [
    "# Load CSV files\n",
    "true_df = pd.read_csv(\"true.csv\")\n",
    "experiment_df = pd.read_csv(\"test.csv\")"
   ]
  },
  {
   "cell_type": "code",
   "execution_count": 10,
   "id": "b124228e",
   "metadata": {},
   "outputs": [
    {
     "name": "stdout",
     "output_type": "stream",
     "text": [
      "Relative RMSE between experimental and true data: 0.189520\n"
     ]
    }
   ],
   "source": [
    "# Clean column names (especially for true_df where headers might have spaces)\n",
    "experiment_df.columns = experiment_df.columns.str.strip()\n",
    "true_df.columns = true_df.columns.str.strip()\n",
    "\n",
    "# Rename columns to 'x' and 'y' for consistency\n",
    "if len(experiment_df.columns) == 2:\n",
    "    experiment_df.columns = ['x', 'y']\n",
    "if len(true_df.columns) == 2:\n",
    "    true_df.columns = ['x', 'y']\n",
    "\n",
    "# Convert to numeric and drop NaNs\n",
    "experiment_df['x'] = pd.to_numeric(experiment_df['x'], errors='coerce')\n",
    "experiment_df['y'] = pd.to_numeric(experiment_df['y'], errors='coerce')\n",
    "experiment_df.dropna(inplace=True)\n",
    "\n",
    "true_df['x'] = pd.to_numeric(true_df['x'], errors='coerce')\n",
    "true_df['y'] = pd.to_numeric(true_df['y'], errors='coerce')\n",
    "true_df.dropna(inplace=True)\n",
    "\n",
    "# Interpolate experiment y-values to true x-points\n",
    "interp_func = interp1d(experiment_df['x'], experiment_df['y'], kind='linear', fill_value='extrapolate')\n",
    "interpolated_y = interp_func(true_df['x'])\n",
    "\n",
    "# Calculate RMSE\n",
    "rmse = np.sqrt(np.mean((interpolated_y - true_df['y'])**2))\n",
    "\n",
    "\n",
    "rel_rmse = rmse / (true_df['y'].max() - true_df['y'].min())\n",
    "\n",
    "print(f\"Relative RMSE between experimental and true data: {rel_rmse:.6f}\")\n"
   ]
  }
 ],
 "metadata": {
  "kernelspec": {
   "display_name": "env",
   "language": "python",
   "name": "python3"
  },
  "language_info": {
   "codemirror_mode": {
    "name": "ipython",
    "version": 3
   },
   "file_extension": ".py",
   "mimetype": "text/x-python",
   "name": "python",
   "nbconvert_exporter": "python",
   "pygments_lexer": "ipython3",
   "version": "3.12.3"
  }
 },
 "nbformat": 4,
 "nbformat_minor": 5
}
